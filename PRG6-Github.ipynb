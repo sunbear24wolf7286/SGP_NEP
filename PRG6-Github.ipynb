{
 "cells": [
  {
   "cell_type": "code",
   "execution_count": 1,
   "id": "2a1468fb-c71a-48fe-ac99-23094c5364cc",
   "metadata": {},
   "outputs": [],
   "source": [
    "import numpy as np"
   ]
  },
  {
   "cell_type": "code",
   "execution_count": null,
   "id": "e7ac86f3-4c24-4816-a92e-c057f1c86793",
   "metadata": {},
   "outputs": [],
   "source": [
    "for rec_year in recovery_years:\n",
    "    # initialize depreciation cost series for full horizon\n",
    "    depr_cost_plot = np.zeros(horizon_len)\n",
    "\n",
    "    # for each original electricity cost, spread evenly over span to rec_year\n",
    "    for i, cost in enumerate(electricity_cost_busd):\n",
    "        cost_year = start_year + i\n",
    "        span = rec_year - cost_year\n",
    "        if span > 0:\n",
    "            annual_recov = cost / span\n",
    "            end_idx = min(horizon_len, i + span)\n",
    "            depr_cost_plot[i:end_idx] += annual_recov\n",
    "\n",
    "    # buffer through electricity budget: subtract depr from elec budget then erode heat when elec negative\n",
    "    eroded_elec_depr = elec_budget_full - depr_cost_plot\n",
    "    eroded_heat_depr = heat_budget_full + np.minimum(eroded_elec_depr, 0.0)\n",
    "    cum_eroded_heat_depr = np.cumsum(eroded_heat_depr)"
   ]
  }
 ],
 "metadata": {
  "kernelspec": {
   "display_name": "Python 3 (ipykernel)",
   "language": "python",
   "name": "python3"
  },
  "language_info": {
   "codemirror_mode": {
    "name": "ipython",
    "version": 3
   },
   "file_extension": ".py",
   "mimetype": "text/x-python",
   "name": "python",
   "nbconvert_exporter": "python",
   "pygments_lexer": "ipython3",
   "version": "3.12.5"
  }
 },
 "nbformat": 4,
 "nbformat_minor": 5
}
