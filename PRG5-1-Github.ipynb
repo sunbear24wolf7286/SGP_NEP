{
 "cells": [
  {
   "cell_type": "code",
   "execution_count": null,
   "id": "19e8d8fe-2f35-49fe-80ab-89e299ebe9eb",
   "metadata": {},
   "outputs": [],
   "source": [
    "import numpy as np\n",
    "import pandas as pd"
   ]
  },
  {
   "cell_type": "code",
   "execution_count": null,
   "id": "1c2e4f67-3b90-44ef-bc35-9f9244510ea1",
   "metadata": {},
   "outputs": [],
   "source": [
    "dependability_table = MO_df['Dependability_frac'].to_dict()\n",
    "\n",
    "def make_rand(dep):\n",
    "    return np.random.uniform(dep, 2 - dep)\n",
    "\n",
    "def solar_profile(h, m, dep):\n",
    "    if h < 6 or h > 18:\n",
    "        return 0.0\n",
    "    base = np.sin(np.pi * (h - 6) / 12) * 2 * m\n",
    "    return base * make_rand(dep)\n",
    "\n",
    "profile_funcs = {}\n",
    "for src in legend_order:\n",
    "    d = dependability_table.get(src, 1.0)\n",
    "    if 'Solar' in src:\n",
    "        profile_funcs[src] = lambda h, m, d=d: solar_profile(h, m, d)\n",
    "    else:\n",
    "        profile_funcs[src] = lambda h, m, d=d: m * make_rand(d)"
   ]
  }
 ],
 "metadata": {
  "kernelspec": {
   "display_name": "Python 3 (ipykernel)",
   "language": "python",
   "name": "python3"
  },
  "language_info": {
   "codemirror_mode": {
    "name": "ipython",
    "version": 3
   },
   "file_extension": ".py",
   "mimetype": "text/x-python",
   "name": "python",
   "nbconvert_exporter": "python",
   "pygments_lexer": "ipython3",
   "version": "3.12.5"
  }
 },
 "nbformat": 4,
 "nbformat_minor": 5
}
