{
 "cells": [
  {
   "cell_type": "code",
   "execution_count": 2,
   "id": "e1124eea-7db4-46f7-8146-c35f126d30bf",
   "metadata": {},
   "outputs": [],
   "source": [
    "import numpy as np"
   ]
  },
  {
   "cell_type": "code",
   "execution_count": 3,
   "id": "5074cd89-a5d2-4396-88e9-1456f7ceb0f1",
   "metadata": {},
   "outputs": [],
   "source": [
    "# Derivative and Integration functions\n",
    "def calculate_slope(data, years):\n",
    "    return (data[-1] - data[0]) / (years[-1] - years[0])"
   ]
  },
  {
   "cell_type": "code",
   "execution_count": 5,
   "id": "3813743c-648d-40b5-94ac-5187e0e28973",
   "metadata": {},
   "outputs": [],
   "source": [
    "# Dynamic derivative\n",
    "def integrate_model_with_dynamic_derivative(\n",
    "    initial_value,\n",
    "    past_data,\n",
    "    years_past,\n",
    "    years_future,\n",
    "    exog_policy,\n",
    "    window=5\n",
    "):\n",
    " \n",
    "    # Initialize forecast list with the initial value\n",
    "    model = [initial_value]\n",
    "\n",
    "    # Loop through each future time step\n",
    "    for i in range(1, len(years_future)):\n",
    "        # Combine past data and forecasts up to the previous step\n",
    "        combined_vals = np.concatenate([past_data, model])\n",
    "        combined_years = np.concatenate([years_past, years_future[:i]])\n",
    "\n",
    "        # Select the last `window` observations (or fewer if not enough history)\n",
    "        vals_window = combined_vals[-window:]\n",
    "        yrs_window = combined_years[-window:]\n",
    "\n",
    "        # Compute slope over this window\n",
    "        current_slope = calculate_slope(vals_window, yrs_window)\n",
    "\n",
    "        # Apply exogenous policy and step forward\n",
    "        rate_of_change = current_slope + exog_policy[i]\n",
    "        model.append(model[-1] + rate_of_change)\n",
    "\n",
    "    return np.array(model)\n"
   ]
  }
 ],
 "metadata": {
  "kernelspec": {
   "display_name": "Python 3 (ipykernel)",
   "language": "python",
   "name": "python3"
  },
  "language_info": {
   "codemirror_mode": {
    "name": "ipython",
    "version": 3
   },
   "file_extension": ".py",
   "mimetype": "text/x-python",
   "name": "python",
   "nbconvert_exporter": "python",
   "pygments_lexer": "ipython3",
   "version": "3.12.5"
  }
 },
 "nbformat": 4,
 "nbformat_minor": 5
}
